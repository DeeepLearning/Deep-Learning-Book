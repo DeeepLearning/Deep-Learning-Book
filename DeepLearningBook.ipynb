{
 "cells": [
  {
   "cell_type": "code",
   "execution_count": 1,
   "metadata": {
    "collapsed": true
   },
   "outputs": [],
   "source": [
    "import urllib2\n",
    "import BeautifulSoup\n",
    "import os\n",
    "import subprocess\n",
    "# Requires installed wkhtmltopdf"
   ]
  },
  {
   "cell_type": "code",
   "execution_count": 2,
   "metadata": {
    "collapsed": true
   },
   "outputs": [],
   "source": [
    "url = 'http://www.deeplearningbook.org/'\n",
    "download_location = './Downloads'\n",
    "urls_to_download = list()"
   ]
  },
  {
   "cell_type": "code",
   "execution_count": 3,
   "metadata": {
    "collapsed": true
   },
   "outputs": [],
   "source": [
    "os.chdir('/Users/Vikash/Desktop/dl_book')"
   ]
  },
  {
   "cell_type": "code",
   "execution_count": 4,
   "metadata": {
    "collapsed": false
   },
   "outputs": [],
   "source": [
    "# Create download folder\n",
    "if not os.path.exists(download_location):\n",
    "  os.mkdir(download_location)\n",
    "\n",
    "# Change directory to download location\n",
    "os.chdir(download_location)"
   ]
  },
  {
   "cell_type": "code",
   "execution_count": 5,
   "metadata": {
    "collapsed": false
   },
   "outputs": [],
   "source": [
    "html = urllib2.urlopen(url).read()\n",
    "soup = BeautifulSoup.BeautifulSoup(html)"
   ]
  },
  {
   "cell_type": "code",
   "execution_count": 6,
   "metadata": {
    "collapsed": false
   },
   "outputs": [],
   "source": [
    "links = soup.findAll('ul li a')"
   ]
  },
  {
   "cell_type": "code",
   "execution_count": 7,
   "metadata": {
    "collapsed": false
   },
   "outputs": [],
   "source": [
    "links = [i.find('a') for i in soup.find('ul').findAll('li')]"
   ]
  },
  {
   "cell_type": "code",
   "execution_count": 8,
   "metadata": {
    "collapsed": false
   },
   "outputs": [],
   "source": [
    "urls_to_download = list()\n",
    "for index,link in enumerate(links):\n",
    "  download_url = link.get('href')\n",
    "  urls_to_download.append((index, download_url))\n",
    "  \n",
    "soup.close()"
   ]
  },
  {
   "cell_type": "code",
   "execution_count": 9,
   "metadata": {
    "collapsed": false
   },
   "outputs": [
    {
     "data": {
      "text/plain": [
       "[(0, u'contents/TOC.html'),\n",
       " (1, u'contents/acknowledgements.html'),\n",
       " (2, u'contents/notation.html'),\n",
       " (3, u'contents/intro.html'),\n",
       " (4, u'contents/part_basics.html'),\n",
       " (5, u'contents/linear_algebra.html'),\n",
       " (6, u'contents/prob.html'),\n",
       " (7, u'contents/numerical.html'),\n",
       " (8, u'contents/ml.html'),\n",
       " (9, u'contents/part_practical.html'),\n",
       " (10, u'contents/mlp.html'),\n",
       " (11, u'contents/regularization.html'),\n",
       " (12, u'contents/optimization.html'),\n",
       " (13, u'contents/convnets.html'),\n",
       " (14, u'contents/rnn.html'),\n",
       " (15, u'contents/guidelines.html'),\n",
       " (16, u'contents/applications.html'),\n",
       " (17, u'contents/part_research.html'),\n",
       " (18, u'contents/linear_factors.html'),\n",
       " (19, u'contents/autoencoders.html'),\n",
       " (20, u'contents/representation.html'),\n",
       " (21, u'contents/graphical_models.html'),\n",
       " (22, u'contents/monte_carlo.html'),\n",
       " (23, u'contents/partition.html'),\n",
       " (24, u'contents/inference.html'),\n",
       " (25, u'contents/generative_models.html')]"
      ]
     },
     "execution_count": 9,
     "metadata": {},
     "output_type": "execute_result"
    }
   ],
   "source": [
    "# Final Urls to download\n",
    "urls_to_download"
   ]
  },
  {
   "cell_type": "code",
   "execution_count": 10,
   "metadata": {
    "collapsed": false
   },
   "outputs": [
    {
     "name": "stdout",
     "output_type": "stream",
     "text": [
      "------- DOWNLOADING STARTED -------\n",
      "File --> TOC.html\n",
      "TOC.html Html Downloaded.\n",
      "Now converting it to PDF\n",
      "PDF Generated.\n",
      "Deleting Html version\n",
      "------- DOWNLOADING COMPLETED -------\n",
      "------- DOWNLOADING STARTED -------\n",
      "File --> acknowledgements.html\n",
      "acknowledgements.html Html Downloaded.\n",
      "Now converting it to PDF\n",
      "PDF Generated.\n",
      "Deleting Html version\n",
      "------- DOWNLOADING COMPLETED -------\n",
      "------- DOWNLOADING STARTED -------\n",
      "File --> notation.html\n",
      "notation.html Html Downloaded.\n",
      "Now converting it to PDF\n",
      "PDF Generated.\n",
      "Deleting Html version\n",
      "------- DOWNLOADING COMPLETED -------\n",
      "------- DOWNLOADING STARTED -------\n",
      "File --> intro.html\n",
      "intro.html Html Downloaded.\n",
      "Now converting it to PDF\n",
      "PDF Generated.\n",
      "Deleting Html version\n",
      "------- DOWNLOADING COMPLETED -------\n",
      "------- DOWNLOADING STARTED -------\n",
      "File --> part_basics.html\n",
      "part_basics.html Html Downloaded.\n",
      "Now converting it to PDF\n",
      "PDF Generated.\n",
      "Deleting Html version\n",
      "------- DOWNLOADING COMPLETED -------\n",
      "------- DOWNLOADING STARTED -------\n",
      "File --> linear_algebra.html\n",
      "linear_algebra.html Html Downloaded.\n",
      "Now converting it to PDF\n",
      "PDF Generated.\n",
      "Deleting Html version\n",
      "------- DOWNLOADING COMPLETED -------\n",
      "------- DOWNLOADING STARTED -------\n",
      "File --> prob.html\n",
      "prob.html Html Downloaded.\n",
      "Now converting it to PDF\n",
      "PDF Generated.\n",
      "Deleting Html version\n",
      "------- DOWNLOADING COMPLETED -------\n",
      "------- DOWNLOADING STARTED -------\n",
      "File --> numerical.html\n",
      "numerical.html Html Downloaded.\n",
      "Now converting it to PDF\n",
      "PDF Generated.\n",
      "Deleting Html version\n",
      "------- DOWNLOADING COMPLETED -------\n",
      "------- DOWNLOADING STARTED -------\n",
      "File --> ml.html\n",
      "ml.html Html Downloaded.\n",
      "Now converting it to PDF\n",
      "PDF Generated.\n",
      "Deleting Html version\n",
      "------- DOWNLOADING COMPLETED -------\n",
      "------- DOWNLOADING STARTED -------\n",
      "File --> part_practical.html\n",
      "part_practical.html Html Downloaded.\n",
      "Now converting it to PDF\n",
      "PDF Generated.\n",
      "Deleting Html version\n",
      "------- DOWNLOADING COMPLETED -------\n",
      "------- DOWNLOADING STARTED -------\n",
      "File --> mlp.html\n",
      "mlp.html Html Downloaded.\n",
      "Now converting it to PDF\n",
      "PDF Generated.\n",
      "Deleting Html version\n",
      "------- DOWNLOADING COMPLETED -------\n",
      "------- DOWNLOADING STARTED -------\n",
      "File --> regularization.html\n",
      "regularization.html Html Downloaded.\n",
      "Now converting it to PDF\n",
      "PDF Generated.\n",
      "Deleting Html version\n",
      "------- DOWNLOADING COMPLETED -------\n",
      "------- DOWNLOADING STARTED -------\n",
      "File --> optimization.html\n",
      "optimization.html Html Downloaded.\n",
      "Now converting it to PDF\n",
      "PDF Generated.\n",
      "Deleting Html version\n",
      "------- DOWNLOADING COMPLETED -------\n",
      "------- DOWNLOADING STARTED -------\n",
      "File --> convnets.html\n",
      "convnets.html Html Downloaded.\n",
      "Now converting it to PDF\n",
      "PDF Generated.\n",
      "Deleting Html version\n",
      "------- DOWNLOADING COMPLETED -------\n",
      "------- DOWNLOADING STARTED -------\n",
      "File --> rnn.html\n",
      "rnn.html Html Downloaded.\n",
      "Now converting it to PDF\n",
      "PDF Generated.\n",
      "Deleting Html version\n",
      "------- DOWNLOADING COMPLETED -------\n",
      "------- DOWNLOADING STARTED -------\n",
      "File --> guidelines.html\n",
      "guidelines.html Html Downloaded.\n",
      "Now converting it to PDF\n",
      "PDF Generated.\n",
      "Deleting Html version\n",
      "------- DOWNLOADING COMPLETED -------\n",
      "------- DOWNLOADING STARTED -------\n",
      "File --> applications.html\n",
      "applications.html Html Downloaded.\n",
      "Now converting it to PDF\n",
      "PDF Generated.\n",
      "Deleting Html version\n",
      "------- DOWNLOADING COMPLETED -------\n",
      "------- DOWNLOADING STARTED -------\n",
      "File --> part_research.html\n",
      "part_research.html Html Downloaded.\n",
      "Now converting it to PDF\n",
      "PDF Generated.\n",
      "Deleting Html version\n",
      "------- DOWNLOADING COMPLETED -------\n",
      "------- DOWNLOADING STARTED -------\n",
      "File --> linear_factors.html\n",
      "linear_factors.html Html Downloaded.\n",
      "Now converting it to PDF\n",
      "PDF Generated.\n",
      "Deleting Html version\n",
      "------- DOWNLOADING COMPLETED -------\n",
      "------- DOWNLOADING STARTED -------\n",
      "File --> autoencoders.html\n",
      "autoencoders.html Html Downloaded.\n",
      "Now converting it to PDF\n",
      "PDF Generated.\n",
      "Deleting Html version\n",
      "------- DOWNLOADING COMPLETED -------\n",
      "------- DOWNLOADING STARTED -------\n",
      "File --> representation.html\n",
      "representation.html Html Downloaded.\n",
      "Now converting it to PDF\n",
      "PDF Generated.\n",
      "Deleting Html version\n",
      "------- DOWNLOADING COMPLETED -------\n",
      "------- DOWNLOADING STARTED -------\n",
      "File --> graphical_models.html\n",
      "graphical_models.html Html Downloaded.\n",
      "Now converting it to PDF\n",
      "PDF Generated.\n",
      "Deleting Html version\n",
      "------- DOWNLOADING COMPLETED -------\n",
      "------- DOWNLOADING STARTED -------\n",
      "File --> monte_carlo.html\n",
      "monte_carlo.html Html Downloaded.\n",
      "Now converting it to PDF\n",
      "PDF Generated.\n",
      "Deleting Html version\n",
      "------- DOWNLOADING COMPLETED -------\n",
      "------- DOWNLOADING STARTED -------\n",
      "File --> partition.html\n",
      "partition.html Html Downloaded.\n",
      "Now converting it to PDF\n",
      "PDF Generated.\n",
      "Deleting Html version\n",
      "------- DOWNLOADING COMPLETED -------\n",
      "------- DOWNLOADING STARTED -------\n",
      "File --> inference.html\n",
      "inference.html Html Downloaded.\n",
      "Now converting it to PDF\n",
      "PDF Generated.\n",
      "Deleting Html version\n",
      "------- DOWNLOADING COMPLETED -------\n",
      "------- DOWNLOADING STARTED -------\n",
      "File --> generative_models.html\n",
      "generative_models.html Html Downloaded.\n",
      "Now converting it to PDF\n",
      "PDF Generated.\n",
      "Deleting Html version\n",
      "------- DOWNLOADING COMPLETED -------\n",
      "-------$$$ DOWNLOAD COMPLETED $$$-------\n"
     ]
    }
   ],
   "source": [
    "files_downloaded = list()\n",
    "\n",
    "def download_link(link_tuple, force=False):\n",
    "  index, link = link_tuple\n",
    "  file_name = link.rsplit('contents/')[-1]\n",
    "  out_file_name = file_name.replace('html', 'pdf')\n",
    "  out_file_name_with_index = str(index) + '_' + out_file_name\n",
    "  download_link = 'http://www.deeplearningbook.org/' + link\n",
    "  global files_downloaded\n",
    "  # print index, link, file_name, out_file_name, out_file_name_with_index, download_link\n",
    "  \n",
    "  if 'html' in link:\n",
    "    print '------- DOWNLOADING STARTED -------' \n",
    "    print 'File --> %s' %file_name\n",
    "    \n",
    "    # wget the file\n",
    "    download_proc = subprocess.call(['wget', '-v' ,download_link, '-O' , file_name], shell=False)\n",
    "    \n",
    "    if download_proc == 0 and os.path.exists(file_name):\n",
    "      print '%s Html Downloaded.\\nNow converting it to PDF' %file_name\n",
    "      convert_proc = subprocess.call(['wkhtmltopdf', '--print-media-type', file_name, out_file_name_with_index], shell=False)\n",
    "      print 'PDF Generated.\\nDeleting Html version'\n",
    "      os.remove(file_name)\n",
    "      files_downloaded.append(out_file_name_with_index)\n",
    "  print '------- DOWNLOADING COMPLETED -------\\n'\n",
    "\n",
    "  \n",
    "for url in urls_to_download:\n",
    "  download_link(url)\n",
    "\n",
    "print '-------$$$ DOWNLOAD COMPLETED $$$-------'"
   ]
  },
  {
   "cell_type": "code",
   "execution_count": 39,
   "metadata": {
    "collapsed": false
   },
   "outputs": [
    {
     "name": "stdout",
     "output_type": "stream",
     "text": [
      "/usr/local/bin/gs -dBATCH -dNOPAUSE -q -sDEVICE=pdfwrite -dPDFSETTINGS=/prepress -sOutputFile=Book.pdf 0_TOC.pdf 1_acknowledgements.pdf 2_notation.pdf 3_intro.pdf 4_part_basics.pdf 5_linear_algebra.pdf 6_prob.pdf 7_numerical.pdf 8_ml.pdf 9_part_practical.pdf 10_mlp.pdf 11_regularization.pdf 12_optimization.pdf 13_convnets.pdf 14_rnn.pdf 15_guidelines.pdf 16_applications.pdf 17_part_research.pdf 18_linear_factors.pdf 19_autoencoders.pdf 20_representation.pdf 21_graphical_models.pdf 22_monte_carlo.pdf 23_partition.pdf 24_inference.pdf 25_generative_models.pdf\n"
     ]
    }
   ],
   "source": [
    "if len(files_downloaded) == len(urls_to_download):\n",
    "  book_file = 'Book.pdf'\n",
    "  input_files = \" \".join(files_downloaded)\n",
    "#   command = ['wkhtmltopdf', '--print-media-type', '--book', input_files, book_file]\n",
    "  command = ['/usr/local/bin/gs', '-dBATCH', '-dNOPAUSE', '-q', '-sDEVICE=pdfwrite', '-dPDFSETTINGS=/prepress', '-sOutputFile=%s' % book_file, input_files]\n",
    "#   command = ['convert', book_file, input_files]\n",
    "  print \" \".join(command)\n",
    "  subprocess.call(command, shell=False)"
   ]
  },
  {
   "cell_type": "code",
   "execution_count": 32,
   "metadata": {
    "collapsed": false
   },
   "outputs": [
    {
     "name": "stdout",
     "output_type": "stream",
     "text": [
      "0_TOC.pdf                 18_linear_factors.pdf     2_notation.pdf\r\n",
      "10_mlp.pdf                19_autoencoders.pdf       3_intro.pdf\r\n",
      "11_regularization.pdf     1_acknowledgements.pdf    4_part_basics.pdf\r\n",
      "12_optimization.pdf       20_representation.pdf     5_linear_algebra.pdf\r\n",
      "13_convnets.pdf           21_graphical_models.pdf   6_prob.pdf\r\n",
      "14_rnn.pdf                22_monte_carlo.pdf        7_numerical.pdf\r\n",
      "15_guidelines.pdf         23_partition.pdf          8_ml.pdf\r\n",
      "16_applications.pdf       24_inference.pdf          9_part_practical.pdf\r\n",
      "17_part_research.pdf      25_generative_models.pdf  Book.pdf\r\n"
     ]
    }
   ],
   "source": [
    "ls"
   ]
  },
  {
   "cell_type": "code",
   "execution_count": null,
   "metadata": {
    "collapsed": true
   },
   "outputs": [],
   "source": []
  }
 ],
 "metadata": {
  "kernelspec": {
   "display_name": "Python 2",
   "language": "python",
   "name": "python2"
  },
  "language_info": {
   "codemirror_mode": {
    "name": "ipython",
    "version": 2
   },
   "file_extension": ".py",
   "mimetype": "text/x-python",
   "name": "python",
   "nbconvert_exporter": "python",
   "pygments_lexer": "ipython2",
   "version": "2.7.12"
  }
 },
 "nbformat": 4,
 "nbformat_minor": 0
}
